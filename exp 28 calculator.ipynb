{
 "cells": [
  {
   "cell_type": "code",
   "execution_count": 11,
   "metadata": {},
   "outputs": [
    {
     "name": "stdout",
     "output_type": "stream",
     "text": [
      "Enter the 1st number:4\n",
      "Enter the 2nd number:3\n",
      "Select the operation to perform:\n",
      "1.Addition\n",
      "2.Substract\n",
      "3.Multiplication\n",
      "4.Division\n",
      "Enter the choice:4\n",
      "Division:1.33\n"
     ]
    }
   ],
   "source": [
    "num1=float(input(\"Enter the 1st number:\"))\n",
    "num2=float(input(\"Enter the 2nd number:\"))\n",
    "print(\"Select the operation to perform:\")\n",
    "print(\"1.Addition\")\n",
    "print(\"2.Substract\")\n",
    "print(\"3.Multiplication\")\n",
    "print(\"4.Division\")\n",
    "choice=int(input(\"Enter the choice:\"))\n",
    "if(choice==1):\n",
    " print(\"Addition:%.2f\" %(num1+num2))\n",
    "elif(choice==2):\n",
    " print(\"Substract:%.2f\" %(num1-num2))\n",
    "elif(choice==3):\n",
    " print(\"Multiplication:%.2f\" %(num1*num2))\n",
    "elif(choice==4):\n",
    " print(\"Division:%.2f\" %(num1/num2))\n",
    "else:\n",
    " print(\"Invalid!\")\n",
    "\n",
    "                "
   ]
  },
  {
   "cell_type": "markdown",
   "metadata": {},
   "source": [
    "2\n"
   ]
  },
  {
   "cell_type": "code",
   "execution_count": null,
   "metadata": {
    "collapsed": true
   },
   "outputs": [],
   "source": []
  }
 ],
 "metadata": {
  "kernelspec": {
   "display_name": "Python 3",
   "language": "python",
   "name": "python3"
  },
  "language_info": {
   "codemirror_mode": {
    "name": "ipython",
    "version": 3
   },
   "file_extension": ".py",
   "mimetype": "text/x-python",
   "name": "python",
   "nbconvert_exporter": "python",
   "pygments_lexer": "ipython3",
   "version": "3.6.3"
  }
 },
 "nbformat": 4,
 "nbformat_minor": 2
}
