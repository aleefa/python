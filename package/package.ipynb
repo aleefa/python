{
 "cells": [
  {
   "cell_type": "code",
   "execution_count": 6,
   "metadata": {},
   "outputs": [
    {
     "name": "stdout",
     "output_type": "stream",
     "text": [
      "1. Rectangle\n",
      "2. Circle\n",
      "3. Cuboid\n",
      " 4. Sphere\n",
      " 5. Exit\n",
      "Enter your choice: 1\n",
      "Enter length: 3\n",
      "Enter breadth: 2\n",
      "Area of Rectangle:  6\n",
      "Perimeter of rectangle:  10\n",
      "1. Rectangle\n",
      "2. Circle\n",
      "3. Cuboid\n",
      " 4. Sphere\n",
      " 5. Exit\n",
      "Enter your choice: 2\n",
      "Enter radius: 4\n",
      "Area of Circle:  50.24\n",
      "Perimeter of circle:  25.12\n",
      "1. Rectangle\n",
      "2. Circle\n",
      "3. Cuboid\n",
      " 4. Sphere\n",
      " 5. Exit\n",
      "Enter your choice: 3\n",
      "Enter length: 2\n",
      "Enter breadth: 4\n",
      "Enter height: 5\n",
      "Area of cuboid:  76\n",
      "Perimeter of cuboid:  44\n",
      "1. Rectangle\n",
      "2. Circle\n",
      "3. Cuboid\n",
      " 4. Sphere\n",
      " 5. Exit\n",
      "Enter your choice: 4\n",
      "Enter radius: 4\n",
      "Area of sphere:  100.48\n",
      "Perimeter of sphere:  200.96\n",
      "1. Rectangle\n",
      "2. Circle\n",
      "3. Cuboid\n",
      " 4. Sphere\n",
      " 5. Exit\n",
      "Enter your choice: 5\n",
      "Exiting...\n"
     ]
    }
   ],
   "source": [
    "from graphics import rectangle\n",
    "from graphics import circle\n",
    "from graphics.graphics3d import cuboid\n",
    "from graphics.graphics3d import sphere\n",
    "\n",
    "while(1):\n",
    "     print(\"1. Rectangle\\n2. Circle\\n3. Cuboid\\n 4. Sphere\\n 5. Exit\")\n",
    "     ch=int(input(\"Enter your choice: \"))\n",
    "     if ch==1:\n",
    "            l=int(input(\"Enter length: \"))\n",
    "            b=int(input(\"Enter breadth: \"))\n",
    "            rectangle.rectarea(l,b)\n",
    "            rectangle.rectperi(l,b)\n",
    "    \n",
    "     elif ch==2:\n",
    "            r=int(input(\"Enter radius: \"))\n",
    "            circle.circlearea(r)\n",
    "            circle.circleperi(r)\n",
    "     elif ch==3:\n",
    "            l = int(input(\"Enter length: \"))\n",
    "            b = int(input(\"Enter breadth: \"))\n",
    "            h= int(input(\"Enter height: \"))\n",
    "            cuboid.cuboidarea(l,b,h)\n",
    "            cuboid.cuboidperi(l,b,h)\n",
    "     elif ch==4:\n",
    "            r=int(input(\"Enter radius: \"))\n",
    "            sphere.spherearea(r)\n",
    "            sphere.sphereperi(r)\n",
    "     else:\n",
    "             print(\"Exiting...\")\n",
    "             break\n",
    " \n",
    "       \n",
    "          \n",
    "                \n",
    "        \n",
    "            "
   ]
  },
  {
   "cell_type": "code",
   "execution_count": null,
   "metadata": {
    "collapsed": true
   },
   "outputs": [],
   "source": []
  },
  {
   "cell_type": "code",
   "execution_count": null,
   "metadata": {
    "collapsed": true
   },
   "outputs": [],
   "source": []
  },
  {
   "cell_type": "code",
   "execution_count": null,
   "metadata": {
    "collapsed": true
   },
   "outputs": [],
   "source": []
  },
  {
   "cell_type": "code",
   "execution_count": null,
   "metadata": {
    "collapsed": true
   },
   "outputs": [],
   "source": []
  },
  {
   "cell_type": "code",
   "execution_count": null,
   "metadata": {
    "collapsed": true
   },
   "outputs": [],
   "source": []
  }
 ],
 "metadata": {
  "kernelspec": {
   "display_name": "Python 3",
   "language": "python",
   "name": "python3"
  },
  "language_info": {
   "codemirror_mode": {
    "name": "ipython",
    "version": 3
   },
   "file_extension": ".py",
   "mimetype": "text/x-python",
   "name": "python",
   "nbconvert_exporter": "python",
   "pygments_lexer": "ipython3",
   "version": "3.6.3"
  }
 },
 "nbformat": 4,
 "nbformat_minor": 2
}
