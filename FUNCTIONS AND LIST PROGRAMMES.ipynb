{
 "cells": [
  {
   "cell_type": "code",
   "execution_count": 2,
   "metadata": {},
   "outputs": [
    {
     "name": "stdout",
     "output_type": "stream",
     "text": [
      "Enter first year: 1980\n",
      "Enter second year: 2000\n",
      "Leap years between  1980 and 2000 :\n",
      "1980\n",
      "1984\n",
      "1988\n",
      "1992\n",
      "1996\n",
      "2000\n"
     ]
    }
   ],
   "source": [
    "#display leap year enter by user\n",
    "def leap(lower,upper):\n",
    "    print(\"Leap years between \",lower, \"and\", upper, \":\")\n",
    "    for i in range (lower,upper+1):\n",
    "        if(i%4==0) and (i%100!=0)or(i%400==0):\n",
    "             print(i)\n",
    "year1=int(input(\"Enter first year: \"))\n",
    "year2=int(input(\"Enter second year: \"))\n",
    "leap(year1,year2)"
   ]
  },
  {
   "cell_type": "code",
   "execution_count": 3,
   "metadata": {},
   "outputs": [
    {
     "name": "stdout",
     "output_type": "stream",
     "text": [
      "1.Square\n",
      "2.Rectangle\n",
      "3.Triangle\n",
      "4.Exit\n",
      "Enter your choice: 1\n",
      "Enter side: 3\n",
      "Area of square:  9\n",
      "1.Square\n",
      "2.Rectangle\n",
      "3.Triangle\n",
      "4.Exit\n",
      "Enter your choice: 2\n",
      "Enter length: 5\n",
      "Enter breadth: 3\n",
      "Area of Rectangle:  15\n",
      "1.Square\n",
      "2.Rectangle\n",
      "3.Triangle\n",
      "4.Exit\n",
      "Enter your choice: 3\n",
      "Enter base: 2\n",
      "Enter height: 5\n",
      "Area of Triangle:  5.0\n",
      "1.Square\n",
      "2.Rectangle\n",
      "3.Triangle\n",
      "4.Exit\n",
      "Enter your choice: 4\n",
      "Exit\n"
     ]
    }
   ],
   "source": [
    "#find lamda function areasqure rectangle and triangle\n",
    "sqr=lambda a:a*a\n",
    "rect=lambda l,b:l*b\n",
    "tri=lambda b,h: (b*h)/2\n",
    "while(1):\n",
    "    print(\"1.Square\\n2.Rectangle\\n3.Triangle\\n4.Exit\")\n",
    "    ch=int(input(\"Enter your choice: \"))\n",
    "    if (ch==1):\n",
    "        a=int(input(\"Enter side: \"))\n",
    "        print(\"Area of square: \",sqr(a))\n",
    "    elif (ch==2):\n",
    "        l = int(input(\"Enter length: \"))\n",
    "        b = int(input(\"Enter breadth: \"))\n",
    "        print(\"Area of Rectangle: \",rect(l,b))\n",
    "    elif (ch==3):\n",
    "        b = int(input(\"Enter base: \"))\n",
    "        h = int(input(\"Enter height: \"))\n",
    "        print(\"Area of Triangle: \",tri(b,h))\n",
    "    else:\n",
    "        print(\"Exit\")\n",
    "        break"
   ]
  },
  {
   "cell_type": "code",
   "execution_count": 4,
   "metadata": {},
   "outputs": [
    {
     "name": "stdout",
     "output_type": "stream",
     "text": [
      "Enter 4 digit lower range: 2010\n",
      "Enter 4 digit upper range: 9000\n",
      "list:  [4624, 6084, 6400, 8464]\n"
     ]
    }
   ],
   "source": [
    "#perfect squares\n",
    "import math\n",
    "n1=int(input(\"Enter 4 digit lower range: \"))\n",
    "n2=int(input(\"Enter 4 digit upper range: \"))\n",
    "l=[]\n",
    "x=0\n",
    "for i in range (n1,n2):\n",
    "    x=i\n",
    "    while(x!=0):\n",
    "        k1=x%10\n",
    "        x=int(x/10)\n",
    " \n",
    "        k2=x%10\n",
    "        x=int(x/10)\n",
    "        k3=x%10\n",
    "        x=int(x/10)\n",
    "        k4 = x % 10\n",
    "        x = int(x / 10)\n",
    "        sq=int(math.sqrt(i))\n",
    "    if (sq*sq==i):\n",
    "        if (k1%2==0 and k2%2==0 and k3%2==0 and k4%2==0):\n",
    "            l.append(i)\n",
    "print(\"list: \",l)"
   ]
  },
  {
   "cell_type": "code",
   "execution_count": 5,
   "metadata": {},
   "outputs": [
    {
     "name": "stdout",
     "output_type": "stream",
     "text": [
      "Enter a word: engineer\n",
      "New word:  engineering\n"
     ]
    }
   ],
   "source": [
    "#adiing 'ing' ang 'ly'\n",
    "word=input(\"Enter a word: \")\n",
    "str1=word[-3:]\n",
    "if str1=='ing':\n",
    "    word=word+'ly'\n",
    "else:\n",
    "    word=word+'ing'\n",
    "    print(\"New word: \",word)\n",
    "\n",
    "\n",
    "    "
   ]
  },
  {
   "cell_type": "code",
   "execution_count": 6,
   "metadata": {},
   "outputs": [
    {
     "name": "stdout",
     "output_type": "stream",
     "text": [
      "Enter a list of words with commaseperated: ab,abcd,abedgfhsd\n",
      "Length of longest word:  9\n"
     ]
    }
   ],
   "source": [
    "l1=[]\n",
    "l=list(map(str,input(\"Enter a list of words with commaseperated: \").split(\",\")))\n",
    "for i in l:\n",
    "    l1.append(len(i))\n",
    "print(\"Length of longest word: \",max(l1))\n"
   ]
  },
  {
   "cell_type": "code",
   "execution_count": null,
   "metadata": {
    "collapsed": true
   },
   "outputs": [],
   "source": []
  }
 ],
 "metadata": {
  "kernelspec": {
   "display_name": "Python 3",
   "language": "python",
   "name": "python3"
  },
  "language_info": {
   "codemirror_mode": {
    "name": "ipython",
    "version": 3
   },
   "file_extension": ".py",
   "mimetype": "text/x-python",
   "name": "python",
   "nbconvert_exporter": "python",
   "pygments_lexer": "ipython3",
   "version": "3.6.3"
  }
 },
 "nbformat": 4,
 "nbformat_minor": 2
}
