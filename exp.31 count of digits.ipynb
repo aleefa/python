{
 "cells": [
  {
   "cell_type": "code",
   "execution_count": 1,
   "metadata": {},
   "outputs": [
    {
     "name": "stdout",
     "output_type": "stream",
     "text": [
      "enter a number:45873\n",
      "the number of digits is 5\n"
     ]
    }
   ],
   "source": [
    "#to count the number of digits\n",
    "n=int(input(\"enter a number:\"))\n",
    "c=0\n",
    "while(n>0):\n",
    "    p=(n%10)\n",
    "    c=(c+1)\n",
    "    n=(n//10)\n",
    "print(\"the number of digits is\",c)"
   ]
  },
  {
   "cell_type": "code",
   "execution_count": null,
   "metadata": {
    "collapsed": true
   },
   "outputs": [],
   "source": []
  }
 ],
 "metadata": {
  "kernelspec": {
   "display_name": "Python 3",
   "language": "python",
   "name": "python3"
  },
  "language_info": {
   "codemirror_mode": {
    "name": "ipython",
    "version": 3
   },
   "file_extension": ".py",
   "mimetype": "text/x-python",
   "name": "python",
   "nbconvert_exporter": "python",
   "pygments_lexer": "ipython3",
   "version": "3.6.3"
  }
 },
 "nbformat": 4,
 "nbformat_minor": 2
}
