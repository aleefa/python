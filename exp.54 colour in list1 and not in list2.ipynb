{
 "cells": [
  {
   "cell_type": "code",
   "execution_count": 7,
   "metadata": {},
   "outputs": [
    {
     "name": "stdout",
     "output_type": "stream",
     "text": [
      "First list is: {'red', 'yellow', 'blue', 'black', 'gray'}\n",
      "Second list is: {'red', 'yellow', 'green'}\n",
      "The new list is: {'black', 'blue', 'gray'}\n"
     ]
    }
   ],
   "source": [
    "#print colours in list1 and not in list2\n",
    "l1=set([\"yellow\",\"red\",\"blue\",\"black\",\"gray\"])\n",
    "l2=set([\"yellow\",\"red\",\"green\"])\n",
    "print(\"First list is:\",l1)\n",
    "print(\"Second list is:\",l2)\n",
    "l3=l1.difference(l2)\n",
    "print(\"The new list is:\",l3)"
   ]
  },
  {
   "cell_type": "code",
   "execution_count": null,
   "metadata": {
    "collapsed": true
   },
   "outputs": [],
   "source": []
  }
 ],
 "metadata": {
  "kernelspec": {
   "display_name": "Python 3",
   "language": "python",
   "name": "python3"
  },
  "language_info": {
   "codemirror_mode": {
    "name": "ipython",
    "version": 3
   },
   "file_extension": ".py",
   "mimetype": "text/x-python",
   "name": "python",
   "nbconvert_exporter": "python",
   "pygments_lexer": "ipython3",
   "version": "3.6.3"
  }
 },
 "nbformat": 4,
 "nbformat_minor": 2
}
