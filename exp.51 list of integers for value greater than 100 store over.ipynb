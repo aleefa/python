{
 "cells": [
  {
   "cell_type": "code",
   "execution_count": 2,
   "metadata": {},
   "outputs": [
    {
     "name": "stdout",
     "output_type": "stream",
     "text": [
      "enter an integer('enter stop to stop'):1213\n",
      "enter an integer('enter stop to stop'):2\n",
      "enter an integer('enter stop to stop'):4\n",
      "enter an integer('enter stop to stop'):5\n",
      "enter an integer('enter stop to stop'):6\n",
      "enter an integer('enter stop to stop'):789\n",
      "enter an integer('enter stop to stop'):100\n",
      "enter an integer('enter stop to stop'):234\n",
      "enter an integer('enter stop to stop'):stop\n",
      "['over', 2, 4, 5, 6, 'over', 100, 'over']\n"
     ]
    }
   ],
   "source": [
    "#store for values greater than 100 \n",
    "values=[]\n",
    "while True:\n",
    "    value = input(\"enter an integer('enter stop to stop'):\")\n",
    "    if value == 'stop':\n",
    "        break\n",
    "    elif int(value)>100:\n",
    "        values.append('over')\n",
    "    else:\n",
    "        values.append(int(value))\n",
    "print(values)\n",
    "\n",
    "    "
   ]
  },
  {
   "cell_type": "code",
   "execution_count": null,
   "metadata": {
    "collapsed": true
   },
   "outputs": [],
   "source": []
  }
 ],
 "metadata": {
  "kernelspec": {
   "display_name": "Python 3",
   "language": "python",
   "name": "python3"
  },
  "language_info": {
   "codemirror_mode": {
    "name": "ipython",
    "version": 3
   },
   "file_extension": ".py",
   "mimetype": "text/x-python",
   "name": "python",
   "nbconvert_exporter": "python",
   "pygments_lexer": "ipython3",
   "version": "3.6.3"
  }
 },
 "nbformat": 4,
 "nbformat_minor": 2
}
