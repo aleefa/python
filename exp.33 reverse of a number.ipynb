{
 "cells": [
  {
   "cell_type": "code",
   "execution_count": 6,
   "metadata": {},
   "outputs": [
    {
     "name": "stdout",
     "output_type": "stream",
     "text": [
      "enter a number:987523\n",
      "reverse of the given number is\n",
      "325789"
     ]
    }
   ],
   "source": [
    "#To find reverse of a number\n",
    "n=int(input(\"enter a number:\"))\n",
    "print(\"reverse of the given number is\")\n",
    "rev=0\n",
    "while(n>0):\n",
    "    rem=n%10\n",
    "    #rev=(rev*10)+rem\n",
    "    print(rem,end=\"\")\n",
    "    n=n//10\n",
    "#print(\"reverse of a number is\",rev)"
   ]
  },
  {
   "cell_type": "code",
   "execution_count": null,
   "metadata": {
    "collapsed": true
   },
   "outputs": [],
   "source": []
  }
 ],
 "metadata": {
  "kernelspec": {
   "display_name": "Python 3",
   "language": "python",
   "name": "python3"
  },
  "language_info": {
   "codemirror_mode": {
    "name": "ipython",
    "version": 3
   },
   "file_extension": ".py",
   "mimetype": "text/x-python",
   "name": "python",
   "nbconvert_exporter": "python",
   "pygments_lexer": "ipython3",
   "version": "3.6.3"
  }
 },
 "nbformat": 4,
 "nbformat_minor": 2
}
