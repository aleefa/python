{
 "cells": [
  {
   "cell_type": "code",
   "execution_count": 2,
   "metadata": {},
   "outputs": [
    {
     "name": "stdout",
     "output_type": "stream",
     "text": [
      "enter the first integer number:500\n",
      "enter the second integer number:1\n",
      "500 is the product\n"
     ]
    }
   ],
   "source": [
    "a=int(input(\"enter the first integer number:\"))\n",
    "b=int(input(\"enter the second integer number:\"))\n",
    "prdct=a*b\n",
    "sum=a+b\n",
    "if(prdct>1000):\n",
    "    print(\"%d is their sum\"%sum)\n",
    "else:\n",
    "    print(\"%d is the product\"%prdct)\n"
   ]
  }
 ],
 "metadata": {
  "kernelspec": {
   "display_name": "Python 3",
   "language": "python",
   "name": "python3"
  },
  "language_info": {
   "codemirror_mode": {
    "name": "ipython",
    "version": 3
   },
   "file_extension": ".py",
   "mimetype": "text/x-python",
   "name": "python",
   "nbconvert_exporter": "python",
   "pygments_lexer": "ipython3",
   "version": "3.6.3"
  }
 },
 "nbformat": 4,
 "nbformat_minor": 2
}
