{
 "cells": [
  {
   "cell_type": "code",
   "execution_count": 10,
   "metadata": {},
   "outputs": [
    {
     "name": "stdout",
     "output_type": "stream",
     "text": [
      "enter numbers with comma-seperated:5,-6,-3,2,6,7\n",
      "positive integers of the list are: [5, 2, 6, 7]\n",
      "square of numbers in a list [25, 36, 9, 4, 36, 49]\n",
      "enter a word:aeroplaneclash\n",
      "vowels in aeroplaneclash are ['e', 'e', 'u', 'o', 'o']\n",
      "ordinal values of aeroplaneclash are [119, 101, 101, 114, 116, 121, 117, 111, 111]\n"
     ]
    }
   ],
   "source": [
    "#list of positive numbers\n",
    "n=input(\"enter numbers with comma-seperated:\").split(',')\n",
    "new=map(int,n)\n",
    "new1=[x for x in new if x>0]\n",
    "print(\"positive integers of the list are:\",new1)\n",
    "\n",
    "#square of n numbers\n",
    "new1=map(int,n)\n",
    "sqlist=[x**2 for x in new1]\n",
    "print(\"square of numbers in a list\",sqlist)\n",
    "\n",
    "#list of vowels\n",
    "v=input(\"enter a word:\")\n",
    "v1=[x for x in vw]\n",
    "vowel=['a','e','i','o','u','A','E','I','O','U']\n",
    "v2=[x for x in v1 if x in vowel]\n",
    "print(\"vowels in\",v,\"are\",v2)\n",
    "\n",
    "#ordinal values\n",
    "ordinal=[ord(x) for x in v1]\n",
    "print(\"ordinal values of\",v,\"are\",ordinal)\n"
   ]
  },
  {
   "cell_type": "code",
   "execution_count": null,
   "metadata": {
    "collapsed": true
   },
   "outputs": [],
   "source": []
  },
  {
   "cell_type": "code",
   "execution_count": null,
   "metadata": {
    "collapsed": true
   },
   "outputs": [],
   "source": []
  }
 ],
 "metadata": {
  "kernelspec": {
   "display_name": "Python 3",
   "language": "python",
   "name": "python3"
  },
  "language_info": {
   "codemirror_mode": {
    "name": "ipython",
    "version": 3
   },
   "file_extension": ".py",
   "mimetype": "text/x-python",
   "name": "python",
   "nbconvert_exporter": "python",
   "pygments_lexer": "ipython3",
   "version": "3.6.3"
  }
 },
 "nbformat": 4,
 "nbformat_minor": 2
}
