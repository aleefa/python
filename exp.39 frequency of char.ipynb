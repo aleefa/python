{
 "cells": [
  {
   "cell_type": "code",
   "execution_count": 1,
   "metadata": {},
   "outputs": [
    {
     "name": "stdout",
     "output_type": "stream",
     "text": [
      "enter a string:appleerrrr\n",
      "count of all characters in the given string:\n",
      "{'a': 1, 'p': 2, 'l': 1, 'e': 2, 'r': 4}\n"
     ]
    }
   ],
   "source": [
    "s=input(\"enter a string:\")\n",
    "frq={}\n",
    "for i in s:\n",
    "    if i in frq:\n",
    "        frq[i]+=1\n",
    "    else:\n",
    "        frq[i]=1\n",
    "print(\"count of all characters in the given string:\\n\"+str(frq))        "
   ]
  },
  {
   "cell_type": "code",
   "execution_count": null,
   "metadata": {
    "collapsed": true
   },
   "outputs": [],
   "source": []
  }
 ],
 "metadata": {
  "kernelspec": {
   "display_name": "Python 3",
   "language": "python",
   "name": "python3"
  },
  "language_info": {
   "codemirror_mode": {
    "name": "ipython",
    "version": 3
   },
   "file_extension": ".py",
   "mimetype": "text/x-python",
   "name": "python",
   "nbconvert_exporter": "python",
   "pygments_lexer": "ipython3",
   "version": "3.6.3"
  }
 },
 "nbformat": 4,
 "nbformat_minor": 2
}
