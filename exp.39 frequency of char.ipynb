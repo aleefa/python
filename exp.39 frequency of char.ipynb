{
 "cells": [
  {
   "cell_type": "code",
   "execution_count": 5,
   "metadata": {},
   "outputs": [
    {
     "name": "stdout",
     "output_type": "stream",
     "text": [
      "enter a string:urgent we need cup\n",
      "count of all characters in the given string:\n",
      "{'u': 2, 'r': 1, 'g': 1, 'e': 4, 'n': 2, 't': 1, ' ': 3, 'w': 1, 'd': 1, 'c': 1, 'p': 1}\n"
     ]
    }
   ],
   "source": [
    "#frequency of characters in a given string\n",
    "s=input(\"enter a string:\")\n",
    "frq={}\n",
    "for i in s:\n",
    "    if i in frq:\n",
    "        frq[i]=frq[i]+1\n",
    "    else:\n",
    "        frq[i]=1\n",
    "print(\"count of all characters in the given string:\\n\"+str(frq))        "
   ]
  },
  {
   "cell_type": "code",
   "execution_count": null,
   "metadata": {
    "collapsed": true
   },
   "outputs": [],
   "source": []
  },
  {
   "cell_type": "code",
   "execution_count": null,
   "metadata": {
    "collapsed": true
   },
   "outputs": [],
   "source": []
  }
 ],
 "metadata": {
  "kernelspec": {
   "display_name": "Python 3",
   "language": "python",
   "name": "python3"
  },
  "language_info": {
   "codemirror_mode": {
    "name": "ipython",
    "version": 3
   },
   "file_extension": ".py",
   "mimetype": "text/x-python",
   "name": "python",
   "nbconvert_exporter": "python",
   "pygments_lexer": "ipython3",
   "version": "3.6.3"
  }
 },
 "nbformat": 4,
 "nbformat_minor": 2
}
