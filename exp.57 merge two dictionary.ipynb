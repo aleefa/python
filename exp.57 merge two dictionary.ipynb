{
 "cells": [
  {
   "cell_type": "code",
   "execution_count": 11,
   "metadata": {},
   "outputs": [
    {
     "name": "stdout",
     "output_type": "stream",
     "text": [
      "dictinary 1= {1: 'mango', 2: 'apple', 3: 'orange'}\n",
      "dictionary 2= {4: 'kiwi', 5: 'jackfruit'}\n",
      "The merged dictionary is given below:\n",
      "{1: 'mango', 2: 'apple', 3: 'orange', 4: 'kiwi', 5: 'jackfruit'}\n"
     ]
    }
   ],
   "source": [
    "#merge two dictionaries\n",
    "d1={1:\"mango\",2:\"apple\",3:\"orange\"}\n",
    "d2={4:\"kiwi\",5:\"jackfruit\"}\n",
    "print(\"dictinary 1=\",d1)\n",
    "print(\"dictionary 2=\",d2)\n",
    "d1.update(d2)\n",
    "print(\"The merged dictionary is given below:\")\n",
    "print(d1)"
   ]
  },
  {
   "cell_type": "code",
   "execution_count": null,
   "metadata": {
    "collapsed": true
   },
   "outputs": [],
   "source": []
  }
 ],
 "metadata": {
  "kernelspec": {
   "display_name": "Python 3",
   "language": "python",
   "name": "python3"
  },
  "language_info": {
   "codemirror_mode": {
    "name": "ipython",
    "version": 3
   },
   "file_extension": ".py",
   "mimetype": "text/x-python",
   "name": "python",
   "nbconvert_exporter": "python",
   "pygments_lexer": "ipython3",
   "version": "3.6.3"
  }
 },
 "nbformat": 4,
 "nbformat_minor": 2
}
