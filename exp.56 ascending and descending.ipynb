{
 "cells": [
  {
   "cell_type": "code",
   "execution_count": 3,
   "metadata": {},
   "outputs": [
    {
     "name": "stdout",
     "output_type": "stream",
     "text": [
      "\n",
      " DICTIONARY =  {'beckham': 1, 'messi': 2, 'ronaldo': 3, 'neymer': 4, 'hakimi': 5}\n",
      "\n",
      " Dictionary in Ascending order : {'beckham': 1, 'hakimi': 5, 'messi': 2, 'neymer': 4, 'ronaldo': 3}\n",
      "\n",
      " Dictionary in Descending order : {'ronaldo': 3, 'neymer': 4, 'messi': 2, 'hakimi': 5, 'beckham': 1}\n"
     ]
    }
   ],
   "source": [
    "#sorting in ascending and descending\n",
    "d={'beckham':1,'messi':2,'ronaldo':3,'neymer':4,'hakimi':5 }\n",
    "print(\"\\n DICTIONARY = \",d)\n",
    "items=list(d.items())\n",
    "items.sort()\n",
    "d=dict(items)\n",
    "print(\"\\n Dictionary in Ascending order :\",d)\n",
    "     \n",
    "items=list(d.items())\n",
    "items.reverse()\n",
    "d=dict(items)\n",
    "print(\"\\n Dictionary in Descending order :\",d)\n"
   ]
  },
  {
   "cell_type": "code",
   "execution_count": null,
   "metadata": {
    "collapsed": true
   },
   "outputs": [],
   "source": []
  }
 ],
 "metadata": {
  "kernelspec": {
   "display_name": "Python 3",
   "language": "python",
   "name": "python3"
  },
  "language_info": {
   "codemirror_mode": {
    "name": "ipython",
    "version": 3
   },
   "file_extension": ".py",
   "mimetype": "text/x-python",
   "name": "python",
   "nbconvert_exporter": "python",
   "pygments_lexer": "ipython3",
   "version": "3.6.3"
  }
 },
 "nbformat": 4,
 "nbformat_minor": 2
}
