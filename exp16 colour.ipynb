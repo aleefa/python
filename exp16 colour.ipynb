{
 "cells": [
  {
   "cell_type": "code",
   "execution_count": 5,
   "metadata": {},
   "outputs": [
    {
     "name": "stdout",
     "output_type": "stream",
     "text": [
      "enter colours with comma seperated:yellow,white,blue,red,green,black\n",
      "['yellow', 'white', 'blue', 'red', 'green', 'black']\n",
      "first colour is: yellow\n",
      "last colour is: black\n"
     ]
    }
   ],
   "source": [
    "a=input(\"enter colours with comma seperated:\")\n",
    "b=a.split(\",\")\n",
    "print(b)\n",
    "print(\"first colour is:\",b[0])\n",
    "print(\"last colour is:\",b[-1])\n"
   ]
  },
  {
   "cell_type": "code",
   "execution_count": null,
   "metadata": {
    "collapsed": true
   },
   "outputs": [],
   "source": []
  }
 ],
 "metadata": {
  "kernelspec": {
   "display_name": "Python 3",
   "language": "python",
   "name": "python3"
  },
  "language_info": {
   "codemirror_mode": {
    "name": "ipython",
    "version": 3
   },
   "file_extension": ".py",
   "mimetype": "text/x-python",
   "name": "python",
   "nbconvert_exporter": "python",
   "pygments_lexer": "ipython3",
   "version": "3.6.3"
  }
 },
 "nbformat": 4,
 "nbformat_minor": 2
}
