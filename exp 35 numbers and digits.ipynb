{
 "cells": [
  {
   "cell_type": "code",
   "execution_count": 5,
   "metadata": {},
   "outputs": [
    {
     "name": "stdout",
     "output_type": "stream",
     "text": [
      "enter a string:thyu7i865\n",
      "number of letters= 5\n",
      "number of digits= 4\n"
     ]
    }
   ],
   "source": [
    "#to count numbers and digits\n",
    "x=input(\"enter a string:\")\n",
    "a=b=0\n",
    "for c in x:\n",
    "    if c.isalpha():\n",
    "        a=a+1\n",
    "    elif c.isdigit():\n",
    "        b=b+1\n",
    "    else:\n",
    "        pass\n",
    "print(\"number of letters=\",a) \n",
    "print(\"number of digits=\",b)\n"
   ]
  },
  {
   "cell_type": "code",
   "execution_count": null,
   "metadata": {
    "collapsed": true
   },
   "outputs": [],
   "source": []
  }
 ],
 "metadata": {
  "kernelspec": {
   "display_name": "Python 3",
   "language": "python",
   "name": "python3"
  },
  "language_info": {
   "codemirror_mode": {
    "name": "ipython",
    "version": 3
   },
   "file_extension": ".py",
   "mimetype": "text/x-python",
   "name": "python",
   "nbconvert_exporter": "python",
   "pygments_lexer": "ipython3",
   "version": "3.6.3"
  }
 },
 "nbformat": 4,
 "nbformat_minor": 2
}
